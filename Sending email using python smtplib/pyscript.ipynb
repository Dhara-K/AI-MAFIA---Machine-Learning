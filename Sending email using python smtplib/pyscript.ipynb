{
 "cells": [
  {
   "cell_type": "code",
   "execution_count": 1,
   "metadata": {},
   "outputs": [
    {
     "name": "stdout",
     "output_type": "stream",
     "text": [
      "········\n",
      "Email sent successfully.\n"
     ]
    }
   ],
   "source": [
    "import getpass\n",
    "import smtplib\n",
    "from email.mime.text import MIMEText\n",
    "\n",
    "sender = 'btbtc17144_dhara@banasthali.in'\n",
    "msg = '''Greetings!!! Hope this email finds you in good health.\n",
    "         This file will be pushed on Github.\n",
    "         Cheers!!\n",
    "         Dhara.'''\n",
    "subject = 'Learn.Inspire.Grow'\n",
    "password = getpass.getpass()\n",
    "recipients = ['dk12to9@gmail.com','dharakaramchandani@gmail.com']\n",
    "\n",
    "try:\n",
    "    #enable the smtpsession and create a smtpsession object\n",
    "    session = smtplib.SMTP('smtp.gmail.com',587)\n",
    "    session.starttls()\n",
    "    session.login(sender,password)\n",
    "\n",
    "    #draft your msg\n",
    "    msg = MIMEText(msg)\n",
    "    msg['subject'] = subject\n",
    "    msg['to'] = ','.join(recipients)\n",
    "    msg['from'] = sender\n",
    "\n",
    "    #send mail\n",
    "    session.sendmail(sender,recipients,msg.as_string())\n",
    "    print(\"Email sent successfully.\")\n",
    "except SMTPException:\n",
    "    print(\"Error: Unable to send email\")"
   ]
  },
  {
   "cell_type": "code",
   "execution_count": null,
   "metadata": {},
   "outputs": [],
   "source": []
  }
 ],
 "metadata": {
  "kernelspec": {
   "display_name": "Python 3",
   "language": "python",
   "name": "python3"
  },
  "language_info": {
   "codemirror_mode": {
    "name": "ipython",
    "version": 3
   },
   "file_extension": ".py",
   "mimetype": "text/x-python",
   "name": "python",
   "nbconvert_exporter": "python",
   "pygments_lexer": "ipython3",
   "version": "3.8.0"
  }
 },
 "nbformat": 4,
 "nbformat_minor": 4
}
